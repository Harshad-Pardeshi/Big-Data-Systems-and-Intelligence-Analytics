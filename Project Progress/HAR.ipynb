{
 "cells": [
  {
   "cell_type": "code",
   "execution_count": 1,
   "metadata": {},
   "outputs": [
    {
     "name": "stderr",
     "output_type": "stream",
     "text": [
      "C:\\Users\\prith\\Anaconda3\\lib\\site-packages\\h5py\\__init__.py:34: FutureWarning: Conversion of the second argument of issubdtype from `float` to `np.floating` is deprecated. In future, it will be treated as `np.float64 == np.dtype(float).type`.\n",
      "  from ._conv import register_converters as _register_converters\n",
      "Using TensorFlow backend.\n"
     ]
    }
   ],
   "source": [
    "import pandas as pd\n",
    "import numpy as np\n",
    "from keras import layers\n",
    "import matplotlib.pyplot as plt\n",
    "import matplotlib"
   ]
  },
  {
   "cell_type": "code",
   "execution_count": 2,
   "metadata": {
    "collapsed": true
   },
   "outputs": [],
   "source": [
    "%matplotlib inline\n",
    "matplotlib.style.use('ggplot')"
   ]
  },
  {
   "cell_type": "markdown",
   "metadata": {},
   "source": [
    "# Importing Data"
   ]
  },
  {
   "cell_type": "code",
   "execution_count": 3,
   "metadata": {
    "collapsed": true
   },
   "outputs": [],
   "source": [
    "# Those are separate normalised input features for the neural network\n",
    "INPUT_SIGNAL_TYPES = [\n",
    "    \"body_acc_x_\",\n",
    "    \"body_acc_y_\",\n",
    "    \"body_acc_z_\",\n",
    "    \"body_gyro_x_\",\n",
    "    \"body_gyro_y_\",\n",
    "    \"body_gyro_z_\",\n",
    "    \"total_acc_x_\",\n",
    "    \"total_acc_y_\",\n",
    "    \"total_acc_z_\"\n",
    "]\n",
    "\n",
    "# Output classes to learn how to classify\n",
    "LABELS = [\n",
    "    \"WALKING\", \n",
    "    \"WALKING_UPSTAIRS\", \n",
    "    \"WALKING_DOWNSTAIRS\", \n",
    "    \"SITTING\", \n",
    "    \"STANDING\", \n",
    "    \"LAYING\"\n",
    "]"
   ]
  },
  {
   "cell_type": "code",
   "execution_count": 4,
   "metadata": {
    "collapsed": true
   },
   "outputs": [],
   "source": [
    "TRAIN = \"C:\\\\Users\\\\prith\\\\Downloads\\\\UCI HAR Dataset\\\\UCI HAR Dataset\\\\train\\\\\"\n",
    "TEST = \"C:\\\\Users\\\\prith\\\\Downloads\\\\UCI HAR Dataset\\\\UCI HAR Dataset\\\\test\\\\\"\n",
    "\n",
    "# Load \"X\" (the neural network's training and testing inputs)\n",
    "\n",
    "def load_X(X_signals_paths):\n",
    "    X_signals = []\n",
    "    \n",
    "    for signal_type_path in X_signals_paths:\n",
    "        file = open(signal_type_path, 'r')\n",
    "        # Read dataset from disk, dealing with text files' syntax\n",
    "        X_signals.append(\n",
    "            [np.array(serie, dtype=np.float32) for serie in [\n",
    "                row.replace('  ', ' ').strip().split(' ') for row in file\n",
    "            ]]\n",
    "        )\n",
    "        file.close()\n",
    "    \n",
    "    return np.transpose(np.array(X_signals), (1, 2, 0))\n",
    "\n",
    "X_train_signals_paths = [\n",
    "    TRAIN + \"Inertial Signals/\" + signal + \"train.txt\" for signal in INPUT_SIGNAL_TYPES\n",
    "]\n",
    "X_test_signals_paths = [\n",
    "    TEST + \"Inertial Signals/\" + signal + \"test.txt\" for signal in INPUT_SIGNAL_TYPES\n",
    "]\n",
    "\n",
    "X_train = load_X(X_train_signals_paths)\n",
    "X_test = load_X(X_test_signals_paths)"
   ]
  },
  {
   "cell_type": "code",
   "execution_count": 5,
   "metadata": {
    "collapsed": true
   },
   "outputs": [],
   "source": [
    "# Load \"y\" (the neural network's training and testing outputs)\n",
    "def load_y(y_path):\n",
    "    file = open(y_path, 'r')\n",
    "    # Read dataset from disk, dealing with text file's syntax\n",
    "    y_ = np.array(\n",
    "        [elem for elem in [\n",
    "            row.replace('  ', ' ').strip().split(' ') for row in file\n",
    "        ]], \n",
    "        dtype=np.int32\n",
    "    )\n",
    "    file.close()\n",
    "    \n",
    "    # Substract 1 to each output class for friendly 0-based indexing \n",
    "    return y_ - 1\n",
    "\n",
    "y_train_path = TRAIN + \"y_train.txt\"\n",
    "y_test_path = TEST + \"y_test.txt\"\n",
    "\n",
    "y_train = load_y(y_train_path)\n",
    "y_test = load_y(y_test_path)"
   ]
  },
  {
   "cell_type": "code",
   "execution_count": 6,
   "metadata": {
    "collapsed": true
   },
   "outputs": [],
   "source": [
    "xtrain_df = pd.DataFrame(X_train.reshape(len(X_train),1152))\n",
    "ytrain_df = pd.DataFrame(y_train.reshape(len(y_train),1))\n",
    "xtest_df = pd.DataFrame(X_test.reshape(len(X_test),1152))\n",
    "ytest_df = pd.DataFrame(y_test.reshape(len(y_test),1))"
   ]
  },
  {
   "cell_type": "code",
   "execution_count": 7,
   "metadata": {
    "collapsed": true
   },
   "outputs": [],
   "source": [
    "feature561_df = pd.read_csv('C:\\\\Users\\\\prith\\\\Downloads\\\\UCI HAR Dataset\\\\UCI HAR Dataset\\\\features.txt',header= None, sep='\\s+')\n",
    "subjectTrain_df = pd.read_csv('C:\\\\Users\\\\prith\\\\Downloads\\\\UCI HAR Dataset\\\\UCI HAR Dataset\\\\train\\\\subject_train.txt',header= None, sep='\\s+')"
   ]
  },
  {
   "cell_type": "code",
   "execution_count": 8,
   "metadata": {
    "collapsed": true
   },
   "outputs": [],
   "source": [
    "#import pandas as pd\n",
    "#import numpy as np\n",
    "#xtrain_df = pd.read_csv('C:\\\\Users\\\\prith\\\\Downloads\\\\UCI HAR Dataset\\\\UCI HAR Dataset\\\\train\\\\X_train.txt',header= None, sep='\\s+')\n",
    "\n",
    "#ytrain_df = pd.read_csv('C:\\\\Users\\\\prith\\\\Downloads\\\\UCI HAR Dataset\\\\UCI HAR Dataset\\\\train\\\\Y_train.txt',header= None, sep='\\s+')\n",
    "#xtest_df = pd.read_csv('C:\\\\Users\\\\prith\\\\Downloads\\\\UCI HAR Dataset\\\\UCI HAR Dataset\\\\test\\\\X_test.txt',header= None, sep='\\s+')\n",
    "#ytest_df = pd.read_csv('C:\\\\Users\\\\prith\\\\Downloads\\\\UCI HAR Dataset\\\\UCI HAR Dataset\\\\test\\\\Y_test.txt',header= None, sep='\\s+')\n"
   ]
  },
  {
   "cell_type": "markdown",
   "metadata": {},
   "source": [
    "# Exploratory Data Analysis"
   ]
  },
  {
   "cell_type": "code",
   "execution_count": 9,
   "metadata": {},
   "outputs": [
    {
     "data": {
      "image/png": "[encoded data removed]",
      "text/plain": [
       "<matplotlib.figure.Figure at 0x22185560dd8>"
      ]
     },
     "metadata": {},
     "output_type": "display_data"
    }
   ],
   "source": [
    "#Plotting the frequency of training data by activity type\n",
    "import matplotlib.pyplot as plt\n",
    "plt.show(ytrain_df[0].value_counts().sort_index().plot(kind='bar', title='Frequency of Training examples by Activity Type'))"
   ]
  },
  {
   "cell_type": "code",
   "execution_count": 10,
   "metadata": {},
   "outputs": [
    {
     "data": {
      "image/png": "[encoded data removed]",
      "text/plain": [
       "<matplotlib.figure.Figure at 0x221855608d0>"
      ]
     },
     "metadata": {},
     "output_type": "display_data"
    }
   ],
   "source": [
    "#Plotting the frequency of training data by user\n",
    "plt.show(subjectTrain_df[0].value_counts().sort_index().plot(kind='bar', title='Frequency of Training examples by user'))"
   ]
  },
  {
   "cell_type": "code",
   "execution_count": 11,
   "metadata": {},
   "outputs": [],
   "source": [
    "#adding fetaures as headers to xtrain\n",
    "#xtrain_df.columns=feature561_df[1]\n",
    "ytrain_df.columns=['Activity']\n",
    "subjectTrain_df.columns=['User']"
   ]
  },
  {
   "cell_type": "code",
   "execution_count": 12,
   "metadata": {
    "collapsed": true
   },
   "outputs": [],
   "source": [
    "train_df=pd.concat([xtrain_df,ytrain_df,subjectTrain_df], axis=1)"
   ]
  },
  {
   "cell_type": "code",
   "execution_count": 13,
   "metadata": {
    "scrolled": true
   },
   "outputs": [
    {
     "data": {
      "text/html": [
       "<div>\n",
       "<style>\n",
       "    .dataframe thead tr:only-child th {\n",
       "        text-align: right;\n",
       "    }\n",
       "\n",
       "    .dataframe thead th {\n",
       "        text-align: left;\n",
       "    }\n",
       "\n",
       "    .dataframe tbody tr th {\n",
       "        vertical-align: top;\n",
       "    }\n",
       "</style>\n",
       "<table border=\"1\" class=\"dataframe\">\n",
       "  <thead>\n",
       "    <tr style=\"text-align: right;\">\n",
       "      <th>Activity</th>\n",
       "      <th>0</th>\n",
       "      <th>1</th>\n",
       "      <th>2</th>\n",
       "      <th>3</th>\n",
       "      <th>4</th>\n",
       "      <th>5</th>\n",
       "    </tr>\n",
       "    <tr>\n",
       "      <th>User</th>\n",
       "      <th></th>\n",
       "      <th></th>\n",
       "      <th></th>\n",
       "      <th></th>\n",
       "      <th></th>\n",
       "      <th></th>\n",
       "    </tr>\n",
       "  </thead>\n",
       "  <tbody>\n",
       "    <tr>\n",
       "      <th>1</th>\n",
       "      <td>95</td>\n",
       "      <td>53</td>\n",
       "      <td>49</td>\n",
       "      <td>47</td>\n",
       "      <td>53</td>\n",
       "      <td>50</td>\n",
       "    </tr>\n",
       "    <tr>\n",
       "      <th>3</th>\n",
       "      <td>58</td>\n",
       "      <td>59</td>\n",
       "      <td>49</td>\n",
       "      <td>52</td>\n",
       "      <td>61</td>\n",
       "      <td>62</td>\n",
       "    </tr>\n",
       "    <tr>\n",
       "      <th>5</th>\n",
       "      <td>56</td>\n",
       "      <td>47</td>\n",
       "      <td>47</td>\n",
       "      <td>44</td>\n",
       "      <td>56</td>\n",
       "      <td>52</td>\n",
       "    </tr>\n",
       "    <tr>\n",
       "      <th>6</th>\n",
       "      <td>57</td>\n",
       "      <td>51</td>\n",
       "      <td>48</td>\n",
       "      <td>55</td>\n",
       "      <td>57</td>\n",
       "      <td>57</td>\n",
       "    </tr>\n",
       "    <tr>\n",
       "      <th>7</th>\n",
       "      <td>57</td>\n",
       "      <td>51</td>\n",
       "      <td>47</td>\n",
       "      <td>48</td>\n",
       "      <td>53</td>\n",
       "      <td>52</td>\n",
       "    </tr>\n",
       "    <tr>\n",
       "      <th>8</th>\n",
       "      <td>48</td>\n",
       "      <td>41</td>\n",
       "      <td>38</td>\n",
       "      <td>46</td>\n",
       "      <td>54</td>\n",
       "      <td>54</td>\n",
       "    </tr>\n",
       "    <tr>\n",
       "      <th>11</th>\n",
       "      <td>59</td>\n",
       "      <td>54</td>\n",
       "      <td>46</td>\n",
       "      <td>53</td>\n",
       "      <td>47</td>\n",
       "      <td>57</td>\n",
       "    </tr>\n",
       "    <tr>\n",
       "      <th>14</th>\n",
       "      <td>59</td>\n",
       "      <td>54</td>\n",
       "      <td>45</td>\n",
       "      <td>54</td>\n",
       "      <td>60</td>\n",
       "      <td>51</td>\n",
       "    </tr>\n",
       "    <tr>\n",
       "      <th>15</th>\n",
       "      <td>54</td>\n",
       "      <td>48</td>\n",
       "      <td>42</td>\n",
       "      <td>59</td>\n",
       "      <td>53</td>\n",
       "      <td>72</td>\n",
       "    </tr>\n",
       "    <tr>\n",
       "      <th>16</th>\n",
       "      <td>51</td>\n",
       "      <td>51</td>\n",
       "      <td>47</td>\n",
       "      <td>69</td>\n",
       "      <td>78</td>\n",
       "      <td>70</td>\n",
       "    </tr>\n",
       "    <tr>\n",
       "      <th>17</th>\n",
       "      <td>61</td>\n",
       "      <td>48</td>\n",
       "      <td>46</td>\n",
       "      <td>64</td>\n",
       "      <td>78</td>\n",
       "      <td>71</td>\n",
       "    </tr>\n",
       "    <tr>\n",
       "      <th>19</th>\n",
       "      <td>52</td>\n",
       "      <td>40</td>\n",
       "      <td>39</td>\n",
       "      <td>73</td>\n",
       "      <td>73</td>\n",
       "      <td>83</td>\n",
       "    </tr>\n",
       "    <tr>\n",
       "      <th>21</th>\n",
       "      <td>52</td>\n",
       "      <td>47</td>\n",
       "      <td>45</td>\n",
       "      <td>85</td>\n",
       "      <td>89</td>\n",
       "      <td>90</td>\n",
       "    </tr>\n",
       "    <tr>\n",
       "      <th>22</th>\n",
       "      <td>46</td>\n",
       "      <td>42</td>\n",
       "      <td>36</td>\n",
       "      <td>62</td>\n",
       "      <td>63</td>\n",
       "      <td>72</td>\n",
       "    </tr>\n",
       "    <tr>\n",
       "      <th>23</th>\n",
       "      <td>59</td>\n",
       "      <td>51</td>\n",
       "      <td>54</td>\n",
       "      <td>68</td>\n",
       "      <td>68</td>\n",
       "      <td>72</td>\n",
       "    </tr>\n",
       "    <tr>\n",
       "      <th>25</th>\n",
       "      <td>74</td>\n",
       "      <td>65</td>\n",
       "      <td>58</td>\n",
       "      <td>65</td>\n",
       "      <td>74</td>\n",
       "      <td>73</td>\n",
       "    </tr>\n",
       "    <tr>\n",
       "      <th>26</th>\n",
       "      <td>59</td>\n",
       "      <td>55</td>\n",
       "      <td>50</td>\n",
       "      <td>78</td>\n",
       "      <td>74</td>\n",
       "      <td>76</td>\n",
       "    </tr>\n",
       "    <tr>\n",
       "      <th>27</th>\n",
       "      <td>57</td>\n",
       "      <td>51</td>\n",
       "      <td>44</td>\n",
       "      <td>70</td>\n",
       "      <td>80</td>\n",
       "      <td>74</td>\n",
       "    </tr>\n",
       "    <tr>\n",
       "      <th>28</th>\n",
       "      <td>54</td>\n",
       "      <td>51</td>\n",
       "      <td>46</td>\n",
       "      <td>72</td>\n",
       "      <td>79</td>\n",
       "      <td>80</td>\n",
       "    </tr>\n",
       "    <tr>\n",
       "      <th>29</th>\n",
       "      <td>53</td>\n",
       "      <td>49</td>\n",
       "      <td>48</td>\n",
       "      <td>60</td>\n",
       "      <td>65</td>\n",
       "      <td>69</td>\n",
       "    </tr>\n",
       "    <tr>\n",
       "      <th>30</th>\n",
       "      <td>65</td>\n",
       "      <td>65</td>\n",
       "      <td>62</td>\n",
       "      <td>62</td>\n",
       "      <td>59</td>\n",
       "      <td>70</td>\n",
       "    </tr>\n",
       "  </tbody>\n",
       "</table>\n",
       "</div>"
      ],
      "text/plain": [
       "Activity   0   1   2   3   4   5\n",
       "User                            \n",
       "1         95  53  49  47  53  50\n",
       "3         58  59  49  52  61  62\n",
       "5         56  47  47  44  56  52\n",
       "6         57  51  48  55  57  57\n",
       "7         57  51  47  48  53  52\n",
       "8         48  41  38  46  54  54\n",
       "11        59  54  46  53  47  57\n",
       "14        59  54  45  54  60  51\n",
       "15        54  48  42  59  53  72\n",
       "16        51  51  47  69  78  70\n",
       "17        61  48  46  64  78  71\n",
       "19        52  40  39  73  73  83\n",
       "21        52  47  45  85  89  90\n",
       "22        46  42  36  62  63  72\n",
       "23        59  51  54  68  68  72\n",
       "25        74  65  58  65  74  73\n",
       "26        59  55  50  78  74  76\n",
       "27        57  51  44  70  80  74\n",
       "28        54  51  46  72  79  80\n",
       "29        53  49  48  60  65  69\n",
       "30        65  65  62  62  59  70"
      ]
     },
     "execution_count": 13,
     "metadata": {},
     "output_type": "execute_result"
    }
   ],
   "source": [
    "#User-wise Activity frequency\n",
    "pd.crosstab(train_df.User, train_df.Activity)"
   ]
  },
  {
   "cell_type": "markdown",
   "metadata": {},
   "source": [
    "# Implementing Machine Learning Algorithms"
   ]
  },
  {
   "cell_type": "code",
   "execution_count": 14,
   "metadata": {
    "collapsed": true
   },
   "outputs": [],
   "source": [
    "from sklearn.tree import DecisionTreeClassifier\n",
    "from sklearn.neighbors import KNeighborsClassifier\n",
    "from sklearn.svm import SVC\n",
    "from sklearn.naive_bayes import GaussianNB\n",
    "from sklearn.discriminant_analysis import QuadraticDiscriminantAnalysis\n",
    "from sklearn.metrics import accuracy_score # for evaluation\n",
    "from sklearn.metrics import confusion_matrix"
   ]
  },
  {
   "cell_type": "code",
   "execution_count": 15,
   "metadata": {},
   "outputs": [
    {
     "name": "stderr",
     "output_type": "stream",
     "text": [
      "C:\\Users\\prith\\Anaconda3\\lib\\site-packages\\ipykernel_launcher.py:13: DataConversionWarning: A column-vector y was passed when a 1d array was expected. Please change the shape of y to (n_samples, ), for example using ravel().\n",
      "  del sys.path[0]\n",
      "C:\\Users\\prith\\Anaconda3\\lib\\site-packages\\sklearn\\utils\\validation.py:526: DataConversionWarning: A column-vector y was passed when a 1d array was expected. Please change the shape of y to (n_samples, ), for example using ravel().\n",
      "  y = column_or_1d(y, warn=True)\n",
      "C:\\Users\\prith\\Anaconda3\\lib\\site-packages\\sklearn\\discriminant_analysis.py:695: UserWarning: Variables are collinear\n",
      "  warnings.warn(\"Variables are collinear\")\n"
     ]
    },
    {
     "data": {
      "text/html": [
       "<div>\n",
       "<style>\n",
       "    .dataframe thead tr:only-child th {\n",
       "        text-align: right;\n",
       "    }\n",
       "\n",
       "    .dataframe thead th {\n",
       "        text-align: left;\n",
       "    }\n",
       "\n",
       "    .dataframe tbody tr th {\n",
       "        vertical-align: top;\n",
       "    }\n",
       "</style>\n",
       "<table border=\"1\" class=\"dataframe\">\n",
       "  <thead>\n",
       "    <tr style=\"text-align: right;\">\n",
       "      <th></th>\n",
       "      <th>Score</th>\n",
       "    </tr>\n",
       "    <tr>\n",
       "      <th>Model</th>\n",
       "      <th></th>\n",
       "    </tr>\n",
       "  </thead>\n",
       "  <tbody>\n",
       "    <tr>\n",
       "      <th>DecisionTreeClassifier</th>\n",
       "      <td>0.719715</td>\n",
       "    </tr>\n",
       "    <tr>\n",
       "      <th>KNeighborsClassifier</th>\n",
       "      <td>0.618935</td>\n",
       "    </tr>\n",
       "    <tr>\n",
       "      <th>SVC</th>\n",
       "      <td>0.769596</td>\n",
       "    </tr>\n",
       "    <tr>\n",
       "      <th>GaussianNB</th>\n",
       "      <td>0.724805</td>\n",
       "    </tr>\n",
       "    <tr>\n",
       "      <th>QuadraticDiscriminantAnalysis</th>\n",
       "      <td>0.484561</td>\n",
       "    </tr>\n",
       "  </tbody>\n",
       "</table>\n",
       "</div>"
      ],
      "text/plain": [
       "                                  Score\n",
       "Model                                  \n",
       "DecisionTreeClassifier         0.719715\n",
       "KNeighborsClassifier           0.618935\n",
       "SVC                            0.769596\n",
       "GaussianNB                     0.724805\n",
       "QuadraticDiscriminantAnalysis  0.484561"
      ]
     },
     "execution_count": 15,
     "metadata": {},
     "output_type": "execute_result"
    }
   ],
   "source": [
    "classifiers = [\n",
    "    DecisionTreeClassifier(),\n",
    "    KNeighborsClassifier(7), # because there are 6 different labels\n",
    "    SVC(),\n",
    "    GaussianNB(),\n",
    "    QuadraticDiscriminantAnalysis()\n",
    "]\n",
    "\n",
    "names = []\n",
    "scores = []\n",
    "\n",
    "for clf in classifiers:\n",
    "    clf = clf.fit(xtrain_df, ytrain_df)\n",
    "    ypred = clf.predict(xtest_df)\n",
    "    \n",
    "    names.append(clf.__class__.__name__)\n",
    "    scores.append(accuracy_score(ypred, ytest_df))\n",
    "\n",
    "score_df = pd.DataFrame({'Model': names, 'Score': scores}).set_index('Model')\n",
    "score_df"
   ]
  },
  {
   "cell_type": "code",
   "execution_count": 16,
   "metadata": {},
   "outputs": [
    {
     "data": {
      "text/plain": [
       "[<matplotlib.text.Text at 0x22186b169e8>,\n",
       " <matplotlib.text.Text at 0x22186b1e048>,\n",
       " <matplotlib.text.Text at 0x22186b7f320>,\n",
       " <matplotlib.text.Text at 0x22186b7fa58>,\n",
       " <matplotlib.text.Text at 0x22186b854a8>]"
      ]
     },
     "execution_count": 16,
     "metadata": {},
     "output_type": "execute_result"
    },
    {
     "data": {
      "image/png": "[encoded data removed]",
      "text/plain": [
       "<matplotlib.figure.Figure at 0x22186a9acf8>"
      ]
     },
     "metadata": {},
     "output_type": "display_data"
    }
   ],
   "source": [
    "ax = score_df.plot.bar()\n",
    "ax.set_xticklabels(score_df.index, rotation=45, fontsize=10)"
   ]
  },
  {
   "cell_type": "code",
   "execution_count": 17,
   "metadata": {},
   "outputs": [
    {
     "name": "stderr",
     "output_type": "stream",
     "text": [
      "C:\\Users\\prith\\Anaconda3\\lib\\site-packages\\sklearn\\utils\\validation.py:526: DataConversionWarning: A column-vector y was passed when a 1d array was expected. Please change the shape of y to (n_samples, ), for example using ravel().\n",
      "  y = column_or_1d(y, warn=True)\n"
     ]
    }
   ],
   "source": [
    "svc_model_linear = SVC(kernel = 'linear', C = 1).fit(xtrain_df, ytrain_df)\n",
    "svc_predictions = svc_model_linear.predict(xtest_df)"
   ]
  },
  {
   "cell_type": "code",
   "execution_count": 18,
   "metadata": {},
   "outputs": [
    {
     "data": {
      "text/plain": [
       "0.6077366813708857"
      ]
     },
     "execution_count": 18,
     "metadata": {},
     "output_type": "execute_result"
    }
   ],
   "source": [
    "# model accuracy for X_test  \n",
    "accuracy = svc_model_linear.score(xtest_df, ytest_df)\n",
    "accuracy"
   ]
  },
  {
   "cell_type": "code",
   "execution_count": 19,
   "metadata": {},
   "outputs": [
    {
     "data": {
      "text/plain": [
       "array([[179,  69,  97,  50, 101,   0],\n",
       "       [104, 212,  49,  32,  74,   0],\n",
       "       [135,  52, 118,  39,  76,   0],\n",
       "       [  2,  25,   1, 370,  93,   0],\n",
       "       [  2,  74,   6,  75, 375,   0],\n",
       "       [  0,   0,   0,   0,   0, 537]])"
      ]
     },
     "execution_count": 19,
     "metadata": {},
     "output_type": "execute_result"
    }
   ],
   "source": [
    "# creating a confusion matrix\n",
    "cm = confusion_matrix(ytest_df, svc_predictions)\n",
    "cm"
   ]
  },
  {
   "cell_type": "markdown",
   "metadata": {},
   "source": [
    "# Implementing Recurrent Neural Networks"
   ]
  },
  {
   "cell_type": "code",
   "execution_count": 27,
   "metadata": {},
   "outputs": [
    {
     "data": {
      "text/plain": [
       "'history = model.fit_generator(,y_train,\\n                              steps_per_epoch=500,\\n                              epochs=20,\\n                              validation_data=X_test,\\n                              validation_steps=val_steps)'"
      ]
     },
     "execution_count": 27,
     "metadata": {},
     "output_type": "execute_result"
    }
   ],
   "source": [
    "from keras.models import Sequential\n",
    "from keras import layers\n",
    "from keras.optimizers import RMSprop\n",
    "\n",
    "model = Sequential()\n",
    "model.add(layers.GRU(32, input_shape=(None, X_train.shape[-1])))\n",
    "model.add(layers.Dense(1))\n",
    "\n",
    "model.compile(optimizer='adam', loss='mae', metrics=['accuracy'])\n",
    "'''history = model.fit_generator(,y_train,\n",
    "                              steps_per_epoch=500,\n",
    "                              epochs=20,\n",
    "                              validation_data=X_test,\n",
    "                              validation_steps=val_steps)'''"
   ]
  },
  {
   "cell_type": "code",
   "execution_count": 28,
   "metadata": {
    "scrolled": true
   },
   "outputs": [
    {
     "name": "stdout",
     "output_type": "stream",
     "text": [
      "Train on 7352 samples, validate on 2947 samples\n",
      "Epoch 1/50\n",
      "7352/7352 [==============================] - 3s 430us/step - loss: 2.4665 - acc: 0.1589 - val_loss: 1.9387 - val_acc: 0.1595\n",
      "Epoch 2/50\n",
      "7352/7352 [==============================] - 3s 411us/step - loss: 1.4713 - acc: 0.1914 - val_loss: 1.1299 - val_acc: 0.2711\n",
      "Epoch 3/50\n",
      "7352/7352 [==============================] - 3s 403us/step - loss: 1.0288 - acc: 0.3630 - val_loss: 1.0051 - val_acc: 0.3885\n",
      "Epoch 4/50\n",
      "7352/7352 [==============================] - 3s 370us/step - loss: 0.9592 - acc: 0.4174 - val_loss: 0.9819 - val_acc: 0.4035\n",
      "Epoch 5/50\n",
      "7352/7352 [==============================] - 3s 375us/step - loss: 0.9237 - acc: 0.4387 - val_loss: 0.9568 - val_acc: 0.4255\n",
      "Epoch 6/50\n",
      "7352/7352 [==============================] - 3s 366us/step - loss: 0.8721 - acc: 0.4542 - val_loss: 0.8843 - val_acc: 0.4591\n",
      "Epoch 7/50\n",
      "7352/7352 [==============================] - 3s 370us/step - loss: 0.7646 - acc: 0.4841 - val_loss: 0.7755 - val_acc: 0.4455\n",
      "Epoch 8/50\n",
      "7352/7352 [==============================] - 3s 404us/step - loss: 0.6029 - acc: 0.5148 - val_loss: 0.5643 - val_acc: 0.5585\n",
      "Epoch 9/50\n",
      "7352/7352 [==============================] - 3s 357us/step - loss: 0.4446 - acc: 0.6621 - val_loss: 0.4255 - val_acc: 0.6502\n",
      "Epoch 10/50\n",
      "7352/7352 [==============================] - 3s 362us/step - loss: 0.3667 - acc: 0.7422 - val_loss: 0.4157 - val_acc: 0.6675\n",
      "Epoch 11/50\n",
      "7352/7352 [==============================] - 3s 359us/step - loss: 0.3340 - acc: 0.7699 - val_loss: 0.3462 - val_acc: 0.7703\n",
      "Epoch 12/50\n",
      "7352/7352 [==============================] - 3s 363us/step - loss: 0.2958 - acc: 0.8086 - val_loss: 0.3170 - val_acc: 0.7832\n",
      "Epoch 13/50\n",
      "7352/7352 [==============================] - 3s 361us/step - loss: 0.2630 - acc: 0.8285 - val_loss: 0.2984 - val_acc: 0.7954\n",
      "Epoch 14/50\n",
      "7352/7352 [==============================] - 3s 370us/step - loss: 0.2456 - acc: 0.8477 - val_loss: 0.2832 - val_acc: 0.8117\n",
      "Epoch 15/50\n",
      "7352/7352 [==============================] - 3s 410us/step - loss: 0.2369 - acc: 0.8538 - val_loss: 0.2702 - val_acc: 0.8178\n",
      "Epoch 16/50\n",
      "7352/7352 [==============================] - 3s 390us/step - loss: 0.2159 - acc: 0.8675 - val_loss: 0.2645 - val_acc: 0.8151\n",
      "Epoch 17/50\n",
      "7352/7352 [==============================] - 3s 392us/step - loss: 0.2064 - acc: 0.8814 - val_loss: 0.2647 - val_acc: 0.8140\n",
      "Epoch 18/50\n",
      "7352/7352 [==============================] - 3s 425us/step - loss: 0.2070 - acc: 0.8818 - val_loss: 0.2638 - val_acc: 0.8151\n",
      "Epoch 19/50\n",
      "7352/7352 [==============================] - 3s 413us/step - loss: 0.1933 - acc: 0.8928 - val_loss: 0.2429 - val_acc: 0.8324\n",
      "Epoch 20/50\n",
      "7352/7352 [==============================] - 3s 393us/step - loss: 0.1846 - acc: 0.8987 - val_loss: 0.2374 - val_acc: 0.8422\n",
      "Epoch 21/50\n",
      "7352/7352 [==============================] - 3s 390us/step - loss: 0.1791 - acc: 0.9040 - val_loss: 0.2549 - val_acc: 0.8269\n",
      "Epoch 22/50\n",
      "7352/7352 [==============================] - 3s 397us/step - loss: 0.1788 - acc: 0.9083 - val_loss: 0.2428 - val_acc: 0.8347\n",
      "Epoch 23/50\n",
      "7352/7352 [==============================] - 3s 396us/step - loss: 0.1752 - acc: 0.9119 - val_loss: 0.2326 - val_acc: 0.8565\n",
      "Epoch 24/50\n",
      "7352/7352 [==============================] - 3s 403us/step - loss: 0.1725 - acc: 0.9129 - val_loss: 0.2255 - val_acc: 0.8524\n",
      "Epoch 25/50\n",
      "7352/7352 [==============================] - 3s 386us/step - loss: 0.1621 - acc: 0.9184 - val_loss: 0.2214 - val_acc: 0.8609\n",
      "Epoch 26/50\n",
      "7352/7352 [==============================] - 3s 421us/step - loss: 0.1618 - acc: 0.9212 - val_loss: 0.2217 - val_acc: 0.8537\n",
      "Epoch 27/50\n",
      "7352/7352 [==============================] - 3s 396us/step - loss: 0.1546 - acc: 0.9245 - val_loss: 0.2180 - val_acc: 0.8565\n",
      "Epoch 28/50\n",
      "7352/7352 [==============================] - 3s 389us/step - loss: 0.1583 - acc: 0.9246 - val_loss: 0.2193 - val_acc: 0.8595\n",
      "Epoch 29/50\n",
      "7352/7352 [==============================] - 3s 407us/step - loss: 0.1527 - acc: 0.9264 - val_loss: 0.2178 - val_acc: 0.8629\n",
      "Epoch 30/50\n",
      "7352/7352 [==============================] - 3s 415us/step - loss: 0.1503 - acc: 0.9278 - val_loss: 0.2120 - val_acc: 0.8612\n",
      "Epoch 31/50\n",
      "7352/7352 [==============================] - 3s 392us/step - loss: 0.1483 - acc: 0.9304 - val_loss: 0.2088 - val_acc: 0.8704\n",
      "Epoch 32/50\n",
      "7352/7352 [==============================] - 3s 395us/step - loss: 0.1436 - acc: 0.9329 - val_loss: 0.2079 - val_acc: 0.8785\n",
      "Epoch 33/50\n",
      "7352/7352 [==============================] - 3s 389us/step - loss: 0.1442 - acc: 0.9343 - val_loss: 0.2073 - val_acc: 0.8697\n",
      "Epoch 34/50\n",
      "7352/7352 [==============================] - 3s 402us/step - loss: 0.1404 - acc: 0.9357 - val_loss: 0.2075 - val_acc: 0.8700\n",
      "Epoch 35/50\n",
      "7352/7352 [==============================] - 3s 397us/step - loss: 0.1391 - acc: 0.9342 - val_loss: 0.2028 - val_acc: 0.8778\n",
      "Epoch 36/50\n",
      "7352/7352 [==============================] - 3s 393us/step - loss: 0.1320 - acc: 0.9388 - val_loss: 0.1951 - val_acc: 0.8839\n",
      "Epoch 37/50\n",
      "7352/7352 [==============================] - 3s 389us/step - loss: 0.1320 - acc: 0.9380 - val_loss: 0.2002 - val_acc: 0.8755\n",
      "Epoch 38/50\n",
      "7352/7352 [==============================] - 3s 390us/step - loss: 0.1324 - acc: 0.9381 - val_loss: 0.1937 - val_acc: 0.8846\n",
      "Epoch 39/50\n",
      "7352/7352 [==============================] - 3s 394us/step - loss: 0.1313 - acc: 0.9385 - val_loss: 0.1960 - val_acc: 0.8782\n",
      "Epoch 40/50\n",
      "7352/7352 [==============================] - 3s 394us/step - loss: 0.1287 - acc: 0.9382 - val_loss: 0.1876 - val_acc: 0.8907\n",
      "Epoch 41/50\n",
      "7352/7352 [==============================] - 3s 390us/step - loss: 0.1252 - acc: 0.9411 - val_loss: 0.1906 - val_acc: 0.8850\n",
      "Epoch 42/50\n",
      "7352/7352 [==============================] - 3s 392us/step - loss: 0.1316 - acc: 0.9381 - val_loss: 0.1886 - val_acc: 0.8945\n",
      "Epoch 43/50\n",
      "7352/7352 [==============================] - 3s 394us/step - loss: 0.1274 - acc: 0.9388 - val_loss: 0.1875 - val_acc: 0.8884\n",
      "Epoch 44/50\n",
      "7352/7352 [==============================] - 3s 387us/step - loss: 0.1232 - acc: 0.9406 - val_loss: 0.1829 - val_acc: 0.8887\n",
      "Epoch 45/50\n",
      "7352/7352 [==============================] - 3s 393us/step - loss: 0.1325 - acc: 0.9344 - val_loss: 0.1873 - val_acc: 0.8863\n",
      "Epoch 46/50\n",
      "7352/7352 [==============================] - 3s 389us/step - loss: 0.1212 - acc: 0.9407 - val_loss: 0.1832 - val_acc: 0.8907\n",
      "Epoch 47/50\n",
      "7352/7352 [==============================] - 3s 391us/step - loss: 0.1207 - acc: 0.9419 - val_loss: 0.1900 - val_acc: 0.8809\n",
      "Epoch 48/50\n",
      "7352/7352 [==============================] - 3s 387us/step - loss: 0.1271 - acc: 0.9347 - val_loss: 0.1999 - val_acc: 0.8914\n",
      "Epoch 49/50\n",
      "7352/7352 [==============================] - 3s 391us/step - loss: 0.1242 - acc: 0.9382 - val_loss: 0.1939 - val_acc: 0.8823\n",
      "Epoch 50/50\n",
      "7352/7352 [==============================] - 3s 390us/step - loss: 0.1246 - acc: 0.9400 - val_loss: 0.1927 - val_acc: 0.8860\n"
     ]
    }
   ],
   "source": [
    "history = model.fit(x=X_train,\n",
    "                    y=y_train,\n",
    "                    batch_size=200,\n",
    "                    epochs=50,\n",
    "                    verbose=1,\n",
    "                    callbacks=None,\n",
    "                    #validation_split=0.2,\n",
    "                    validation_data = (X_test, y_test),\n",
    "                    #validation_data=None,\n",
    "                    shuffle=True,\n",
    "                    #class_weight=None, sample_weight=None,initial_epoch=0, steps_per_epoch=None, validation_steps=None\n",
    "                   )"
   ]
  },
  {
   "cell_type": "code",
   "execution_count": 29,
   "metadata": {},
   "outputs": [
    {
     "data": {
      "text/plain": [
       "dict_keys(['val_loss', 'val_acc', 'loss', 'acc'])"
      ]
     },
     "execution_count": 29,
     "metadata": {},
     "output_type": "execute_result"
    }
   ],
   "source": [
    "history_dict = history.history\n",
    "history_dict.keys()"
   ]
  },
  {
   "cell_type": "code",
   "execution_count": 33,
   "metadata": {},
   "outputs": [
    {
     "data": {
      "image/png": "[encoded data removed]",
      "text/plain": [
       "<matplotlib.figure.Figure at 0x22198dfc0f0>"
      ]
     },
     "metadata": {},
     "output_type": "display_data"
    }
   ],
   "source": [
    "loss = history.history['loss']\n",
    "val_loss = history.history['val_loss']\n",
    "\n",
    "epochs = range(len(loss))\n",
    "\n",
    "plt.figure()\n",
    "\n",
    "plt.plot(epochs, loss, 'g', label='Training loss')\n",
    "plt.plot(epochs, val_loss, 'b', label='Validation loss')\n",
    "plt.title('Training and validation loss')\n",
    "plt.legend()\n",
    "\n",
    "plt.show()"
   ]
  },
  {
   "cell_type": "code",
   "execution_count": 31,
   "metadata": {
    "scrolled": true
   },
   "outputs": [
    {
     "data": {
      "image/png": "[encoded data removed]",
      "text/plain": [
       "<matplotlib.figure.Figure at 0x22198cbd898>"
      ]
     },
     "metadata": {},
     "output_type": "display_data"
    }
   ],
   "source": [
    "loss = history.history['acc']\n",
    "val_loss = history.history['val_acc']\n",
    "\n",
    "epochs = range(len(loss))\n",
    "\n",
    "plt.figure()\n",
    "\n",
    "plt.plot(epochs, loss, 'g', label='Training acc')\n",
    "plt.plot(epochs, val_loss, 'b', label='Validation acc')\n",
    "plt.title('Training and validation acc')\n",
    "plt.legend()\n",
    "\n",
    "plt.show()"
   ]
  },
  {
   "cell_type": "code",
   "execution_count": null,
   "metadata": {
    "collapsed": true
   },
   "outputs": [],
   "source": []
  }
 ],
 "metadata": {
  "kernelspec": {
   "display_name": "Python 3",
   "language": "python",
   "name": "python3"
  },
  "language_info": {
   "codemirror_mode": {
    "name": "ipython",
    "version": 3
   },
   "file_extension": ".py",
   "mimetype": "text/x-python",
   "name": "python",
   "nbconvert_exporter": "python",
   "pygments_lexer": "ipython3",
   "version": "3.6.1"
  }
 },
 "nbformat": 4,
 "nbformat_minor": 2
}
